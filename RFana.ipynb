{
  "nbformat": 4,
  "nbformat_minor": 0,
  "metadata": {
    "colab": {
      "provenance": [],
      "toc_visible": true,
      "mount_file_id": "1k3hl2d8R3n3uPMofPGCZ8-mv1a95kltQ",
      "authorship_tag": "ABX9TyPLQTAKKgqu92tMSuExKu4J",
      "include_colab_link": true
    },
    "kernelspec": {
      "name": "python3",
      "display_name": "Python 3"
    },
    "language_info": {
      "name": "python"
    }
  },
  "cells": [
    {
      "cell_type": "markdown",
      "metadata": {
        "id": "view-in-github",
        "colab_type": "text"
      },
      "source": [
        "<a href=\"https://colab.research.google.com/github/K-geo/Cropland-Expansion-in-Nigeria/blob/main/RFana.ipynb\" target=\"_parent\"><img src=\"https://colab.research.google.com/assets/colab-badge.svg\" alt=\"Open In Colab\"/></a>"
      ]
    },
    {
      "cell_type": "code",
      "execution_count": null,
      "metadata": {
        "id": "hkcGNCKfRWqo"
      },
      "outputs": [],
      "source": [
        "from sklearn.metrics import r2_score\n",
        "from sklearn.metrics import mean_squared_error\n",
        "from sklearn.model_selection import train_test_split\n",
        "from sklearn.ensemble import RandomForestRegressor\n",
        "from sklearn.model_selection import GridSearchCV\n",
        "import pandas as pd"
      ]
    },
    {
      "cell_type": "code",
      "source": [
        "fname = \"/content/drive/MyDrive/Colab/TMF_folo_detr_c.csv\"\n",
        "df = pd.read_csv(fname)\n"
      ],
      "metadata": {
        "id": "LrxR5GUNSVUH"
      },
      "execution_count": null,
      "outputs": []
    },
    {
      "cell_type": "code",
      "source": [
        "#copy from here\n",
        "#feature = df[['Rain', 'Tmp_1y']]\n",
        "#target = df['TMF']\n",
        "# -- create train/test sets\n",
        "#feat_tr, feat_te, targ_tr, targ_te = train_test_split(feature, target, test_size=0.2, random_state=333)"
      ],
      "metadata": {
        "id": "uawSR750TGu2"
      },
      "execution_count": null,
      "outputs": []
    },
    {
      "cell_type": "code",
      "source": [
        "#Creating training and test sets\n",
        "#feature = df[['Rain', 'Tmp_1y', 'tmp',  'Rain3yr','Rain5y' , 'Rain10y' ]]\n",
        "feature = df[['Rain_5y', 'Rain_10y', 'Tmp_1y', 'Tmax_1y', 'DTR_1y' ]]\n",
        "target = df['TMF']\n",
        "# -- create train/test sets\n",
        "feat_tr, feat_te, targ_tr, targ_te = train_test_split(feature, target, test_size=0.2,\n",
        "                                                      random_state=333)"
      ],
      "metadata": {
        "id": "iU3waVgRZAJ1"
      },
      "execution_count": null,
      "outputs": []
    },
    {
      "cell_type": "code",
      "source": [
        "# -- suppress overfitting after using grid search\n",
        "rfr = RandomForestRegressor(max_features=7, min_samples_leaf=50, max_depth=5, n_estimators=50)\n",
        "rfr.fit(feat_tr, targ_tr)\n",
        "\n",
        "# -- calculate training and testing MSE\n",
        "mse_tr = mean_squared_error(targ_tr, rfr.predict(feat_tr))\n",
        "mse_te = mean_squared_error(targ_te, rfr.predict(feat_te))\n",
        "\n",
        "print(\"MSE Training : {0}\".format(mse_tr))\n",
        "print(\"MSE Testing  : {0}\".format(mse_te))\n",
        "print(\"variance Training : {0}\".format(targ_tr.var(ddof=0)))\n",
        "print(\"variance Testing  : {0}\".format(targ_te.var(ddof=0)))\n",
        "print('r2 on training sets:', r2_score(targ_tr, rfr.predict(feat_tr)))\n",
        "print('r2 on test sets:', r2_score(targ_te, rfr.predict(feat_te)))"
      ],
      "metadata": {
        "colab": {
          "base_uri": "https://localhost:8080/"
        },
        "id": "nAWw5KYuTOfJ",
        "outputId": "d2eb9377-76bc-4cc4-bbde-7ed312b0fbc9"
      },
      "execution_count": null,
      "outputs": [
        {
          "output_type": "stream",
          "name": "stdout",
          "text": [
            "MSE Training : 5.217657204047919e-05\n",
            "MSE Testing  : 5.980876887805697e-05\n",
            "variance Training : 6.673109569265058e-05\n",
            "variance Testing  : 7.415458472200188e-05\n",
            "r2 on training sets: 0.21810706839291927\n",
            "r2 on test sets: 0.19345824533609002\n"
          ]
        }
      ]
    }
  ]
}